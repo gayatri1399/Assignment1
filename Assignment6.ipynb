{
 "cells": [
  {
   "cell_type": "markdown",
   "id": "c91e27a9",
   "metadata": {},
   "source": [
    "# Assignment 1"
   ]
  },
  {
   "cell_type": "markdown",
   "id": "2dfb7562",
   "metadata": {},
   "source": [
    "### 1. Create a JSON file (employee.json) containing employee information of minimum 5 employees. Each employee information consists of Name, DOB, Height, City, State. Write a python program that reads this information from the JSON file and saves the information into a list of objects of Employee class. Finally print the list of the Employee objects."
   ]
  },
  {
   "cell_type": "code",
   "execution_count": 1,
   "id": "b5db241f",
   "metadata": {},
   "outputs": [
    {
     "name": "stdout",
     "output_type": "stream",
     "text": [
      "Json file generated\n"
     ]
    },
    {
     "data": {
      "text/plain": [
       "{'emp_details': [{'Name': 'Gayatri',\n",
       "   'DOB': '13/12/1999',\n",
       "   'Height': '5 ft',\n",
       "   'City': 'Dhule',\n",
       "   'State': 'Maharashtra'},\n",
       "  {'Name': 'Gauri',\n",
       "   'DOB': '17/12/1999',\n",
       "   'Height': '5.7 ft',\n",
       "   'City': 'Gwalior',\n",
       "   'State': 'Madhya Pradesh'},\n",
       "  {'Name': 'Radhika',\n",
       "   'DOB': '13/1/1996',\n",
       "   'Height': '4.2 ft',\n",
       "   'City': 'Agra',\n",
       "   'State': 'Uttar Pradesh'},\n",
       "  {'Name': 'Shubham',\n",
       "   'DOB': '27/2/1992',\n",
       "   'Height': '6.2 ft',\n",
       "   'City': 'Jaipur',\n",
       "   'State': 'Rajasthan'},\n",
       "  {'Name': 'Swapnil',\n",
       "   'DOB': '3/3/1995',\n",
       "   'Height': '5.8 ft',\n",
       "   'City': 'Mumbai',\n",
       "   'State': 'Maharashtra'}]}"
      ]
     },
     "execution_count": 1,
     "metadata": {},
     "output_type": "execute_result"
    }
   ],
   "source": [
    "import json\n",
    "emp={'emp_details':[{'Name':'Gayatri','DOB':'13/12/1999','Height':'5 ft','City':'Dhule','State':'Maharashtra'},\n",
    "    {'Name':'Gauri','DOB':'17/12/1999','Height':'5.7 ft','City':'Gwalior','State':'Madhya Pradesh'},\n",
    "    {'Name':'Radhika','DOB':'13/1/1996','Height':'4.2 ft','City':'Agra','State':'Uttar Pradesh'},\n",
    "    {'Name':'Shubham','DOB':'27/2/1992','Height':'6.2 ft','City':'Jaipur','State':'Rajasthan'},\n",
    "    {'Name':'Swapnil','DOB':'3/3/1995','Height':'5.8 ft','City':'Mumbai','State':'Maharashtra'}]}\n",
    "with open('employee.json','w') as f:\n",
    "    json.dump(emp,f,indent=4)\n",
    "    print('Json file generated')\n",
    "with open('employee.json','r') as f:\n",
    "    x=json.load(f)\n",
    "x    "
   ]
  },
  {
   "cell_type": "markdown",
   "id": "5cb25327",
   "metadata": {},
   "source": [
    "### 2. Create a dictionary of any 7 Indian states and their capitals. Write this into a JSON file"
   ]
  },
  {
   "cell_type": "code",
   "execution_count": 2,
   "id": "ec5b09ad",
   "metadata": {},
   "outputs": [
    {
     "name": "stdout",
     "output_type": "stream",
     "text": [
      "Dict of 7 Indian states and their capitals generated\n"
     ]
    }
   ],
   "source": [
    "import json\n",
    "country={1:{'Maharashtra':'Mumbai'},\n",
    "         2:{'Madhya Pradesh':'Bhopal'},\n",
    "         3:{'Rajasthan':'Jaipur'},\n",
    "         4:{'Goa':'Punji'},\n",
    "         5:{'Gujarat':'Gandhinagar'},\n",
    "        6:{'Bihar':'Patna'},\n",
    "         7:{'Assam':'Dispur'}}\n",
    "with open('s_and_c.json','w')as f:\n",
    "    json.dump(country,f,indent=4)\n",
    "    print('Dict of 7 Indian states and their capitals generated')"
   ]
  },
  {
   "cell_type": "markdown",
   "id": "74ba2f23",
   "metadata": {},
   "source": [
    "# Assignment2"
   ]
  },
  {
   "cell_type": "markdown",
   "id": "70f53851",
   "metadata": {},
   "source": [
    "### Create a class named ‘Dog’. It should have a constructor which accepts its name, age and coat color. You must perform the following operations:"
   ]
  },
  {
   "cell_type": "markdown",
   "id": "cabe6363",
   "metadata": {},
   "source": [
    "##### a. It should have a function ‘description()’ which prints the name and age of the dog.\n",
    "##### b. It should have a function ‘get_info()’ which prints the coat color of the dog.\n",
    "##### c. Create child classes ‘JackRussellTerrier’ and ‘Bulldog’ which is inherited from the class ‘Dog’. It should have at least two methods of its own.\n",
    "##### d. Create objects and implement the above functionalities."
   ]
  },
  {
   "cell_type": "code",
   "execution_count": 3,
   "id": "30a11ecf",
   "metadata": {},
   "outputs": [
    {
     "name": "stdout",
     "output_type": "stream",
     "text": [
      "The name of the dog is :Dhole ,The age of the dog is :37\n",
      " \n",
      "The height of the dog is : 5\n",
      "\n",
      "The name of the dog is :German shepard ,The age of the dog is :13,\n",
      "The height of the dog is :4 ,The color of the dog is : Brown\n",
      "\n",
      "The weight of German shepard is 45\n",
      "\n"
     ]
    }
   ],
   "source": [
    "class Dog:\n",
    "    def __init__(self,name,age,coat_color):\n",
    "        self.name=name\n",
    "        self.age=age\n",
    "        self.coat_color=coat_color\n",
    "        \n",
    "    def description(self):\n",
    "        print(\"The name of the dog is :\",self.name)\n",
    "        print('The age of the dog is :',self.age)\n",
    "        \n",
    "    def get_info(self):\n",
    "        print('The coat color of the dog is :',self.coat_color)\n",
    "        \n",
    "class JackRussellTerrier(Dog):\n",
    "    def __init__(self,height,name=None,age=0,coat_color=None):\n",
    "        super().__init__(name,age,coat_color)\n",
    "        self.height=height\n",
    "        \n",
    "    def describe(self):\n",
    "        print('The name of the dog is :'+str(self.name)+ ' ,The age of the dog is :'+str(self.age))\n",
    "        return \" \"\n",
    "    \n",
    "    def ht(self):\n",
    "        print('The height of the dog is :',self.height)\n",
    "        return ''\n",
    "        \n",
    "class Bulldog(Dog):\n",
    "    def __init__(self,height,name=None,age=0,coat_color=None,weight=0):\n",
    "        super().__init__(name,age,coat_color)\n",
    "        self.weight=weight\n",
    "        self.height=height\n",
    "        \n",
    "    def justify(self):\n",
    "        print('The name of the dog is :'+str(self.name)+ ' ,The age of the dog is :'+str(self.age)+\n",
    "           ',\\nThe height of the dog is :'+str(self.height)+ ' ,The color of the dog is :',self.coat_color)\n",
    "        return ''\n",
    "\n",
    "    def wt(self):\n",
    "        print('The weight of '+self.name+ ' is ' +str(self.weight))\n",
    "        return ''\n",
    "        \n",
    "x=JackRussellTerrier(5,'Dhole',37,'white')\n",
    "print(x.describe())\n",
    "print(x.ht())\n",
    "y=Bulldog(4,'German shepard',13,'Brown',45)\n",
    "print(y.justify())\n",
    "print(y.wt())"
   ]
  }
 ],
 "metadata": {
  "kernelspec": {
   "display_name": "Python 3 (ipykernel)",
   "language": "python",
   "name": "python3"
  },
  "language_info": {
   "codemirror_mode": {
    "name": "ipython",
    "version": 3
   },
   "file_extension": ".py",
   "mimetype": "text/x-python",
   "name": "python",
   "nbconvert_exporter": "python",
   "pygments_lexer": "ipython3",
   "version": "3.11.1"
  }
 },
 "nbformat": 4,
 "nbformat_minor": 5
}
