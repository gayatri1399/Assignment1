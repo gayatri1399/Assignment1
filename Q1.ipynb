{
 "cells": [
  {
   "cell_type": "markdown",
   "id": "d7cbe9ac",
   "metadata": {},
   "source": [
    "# Write a Python program to get the Fibonacci series between 0 to 50"
   ]
  },
  {
   "cell_type": "code",
   "execution_count": 1,
   "id": "d71d564d",
   "metadata": {},
   "outputs": [
    {
     "name": "stdout",
     "output_type": "stream",
     "text": [
      "enter start no : 0\n",
      "enter end no : 50\n",
      "The Fibonacci series is: \n",
      "0\n",
      "1\n",
      "1\n",
      "2\n",
      "3\n",
      "5\n",
      "8\n",
      "13\n",
      "21\n",
      "34\n"
     ]
    }
   ],
   "source": [
    "start=int(input('enter start no : '))\n",
    "end=int(input('enter end no : '))\n",
    "a=0\n",
    "b=1\n",
    "if(start<0):\n",
    "    print('incorrect input')\n",
    "elif start==1:\n",
    "    print(a)\n",
    "else:\n",
    "    print(\"The Fibonacci series is: \")\n",
    "    print(a)\n",
    "    print(b)\n",
    "    for i in range(2,end):\n",
    "        c=a+b\n",
    "        if c<end:\n",
    "            print(c)\n",
    "            a=b\n",
    "            b=c"
   ]
  }
 ],
 "metadata": {
  "kernelspec": {
   "display_name": "Python 3",
   "language": "python",
   "name": "python3"
  },
  "language_info": {
   "codemirror_mode": {
    "name": "ipython",
    "version": 3
   },
   "file_extension": ".py",
   "mimetype": "text/x-python",
   "name": "python",
   "nbconvert_exporter": "python",
   "pygments_lexer": "ipython3",
   "version": "3.9.5"
  }
 },
 "nbformat": 4,
 "nbformat_minor": 5
}
