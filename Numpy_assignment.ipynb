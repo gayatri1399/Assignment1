{
 "cells": [
  {
   "cell_type": "code",
   "execution_count": 1,
   "id": "c96b95a9",
   "metadata": {},
   "outputs": [],
   "source": [
    "import numpy as np"
   ]
  },
  {
   "cell_type": "markdown",
   "id": "2e6aebf0",
   "metadata": {},
   "source": [
    "# 1. Create a null vector of size 10 but the fifth value which is 1."
   ]
  },
  {
   "cell_type": "code",
   "execution_count": 2,
   "id": "60ff360c",
   "metadata": {},
   "outputs": [
    {
     "name": "stdout",
     "output_type": "stream",
     "text": [
      "The null vector is : [0. 0. 0. 0. 1. 0. 0. 0. 0. 0.]\n"
     ]
    }
   ],
   "source": [
    "x=np.zeros(10)\n",
    "x[4]=1\n",
    "print('The null vector is :',x)"
   ]
  },
  {
   "cell_type": "markdown",
   "id": "570ab825",
   "metadata": {},
   "source": [
    "# 2. Create a vector with values ranging from 10 to 49"
   ]
  },
  {
   "cell_type": "code",
   "execution_count": 3,
   "id": "45c60602",
   "metadata": {},
   "outputs": [
    {
     "name": "stdout",
     "output_type": "stream",
     "text": [
      "The vector is : [10 11 12 13 14 15 16 17 18 19 20 21 22 23 24 25 26 27 28 29 30 31 32 33\n",
      " 34 35 36 37 38 39 40 41 42 43 44 45 46 47 48 49]\n"
     ]
    }
   ],
   "source": [
    "x=np.arange(10,50)\n",
    "print('The vector is :',x)"
   ]
  },
  {
   "cell_type": "markdown",
   "id": "d6e54cc6",
   "metadata": {},
   "source": [
    "# 3. Create a 3x3 matrix with values ranging from 0 to 8"
   ]
  },
  {
   "cell_type": "code",
   "execution_count": 4,
   "id": "8207ab02",
   "metadata": {},
   "outputs": [
    {
     "name": "stdout",
     "output_type": "stream",
     "text": [
      "A 3*3 matrix is :\n",
      " [[0 1 2]\n",
      " [3 4 5]\n",
      " [6 7 8]]\n"
     ]
    }
   ],
   "source": [
    "x=np.arange(0,9).reshape(3,3)\n",
    "print('A 3*3 matrix is :\\n',x)"
   ]
  },
  {
   "cell_type": "markdown",
   "id": "aa0d4449",
   "metadata": {},
   "source": [
    "# 4. Find indices of non-zero elements from [1,2,0,0,4,0]"
   ]
  },
  {
   "cell_type": "code",
   "execution_count": 5,
   "id": "de419a67",
   "metadata": {},
   "outputs": [
    {
     "name": "stdout",
     "output_type": "stream",
     "text": [
      "(array([0, 1, 4], dtype=int64),)\n"
     ]
    }
   ],
   "source": [
    "a=np.array([1,2,0,0,4,0])\n",
    "print(np.nonzero(a))"
   ]
  },
  {
   "cell_type": "markdown",
   "id": "55ba5e98",
   "metadata": {},
   "source": [
    "# 5. Create a 10x10 array with random values and find the minimum and maximum values."
   ]
  },
  {
   "cell_type": "code",
   "execution_count": 6,
   "id": "ff7a9b1a",
   "metadata": {},
   "outputs": [
    {
     "name": "stdout",
     "output_type": "stream",
     "text": [
      "Original Array:\n",
      "[[0.19655716 0.56039109 0.21291938 0.32878739 0.98548122 0.63028286\n",
      "  0.95885371 0.80103575 0.69841247 0.0650007 ]\n",
      " [0.18209437 0.02252294 0.187928   0.9942018  0.31568949 0.63777741\n",
      "  0.08559739 0.45636493 0.80717009 0.15507359]\n",
      " [0.04594799 0.02176547 0.95305424 0.09209359 0.59396871 0.75646529\n",
      "  0.90873623 0.87324047 0.60547344 0.93242724]\n",
      " [0.65231873 0.12767562 0.19160056 0.53028778 0.57178054 0.7118506\n",
      "  0.19521257 0.55943172 0.58154604 0.92103598]\n",
      " [0.83662957 0.42713635 0.87934258 0.37168145 0.35488416 0.40150534\n",
      "  0.34791443 0.58384773 0.84247255 0.24811928]\n",
      " [0.7680395  0.52332254 0.63758052 0.31965922 0.02250319 0.68373706\n",
      "  0.94213317 0.52418168 0.84536749 0.95502421]\n",
      " [0.15076463 0.08620007 0.79099897 0.32484846 0.80950435 0.62514703\n",
      "  0.35463494 0.58703505 0.67441493 0.18983421]\n",
      " [0.83953958 0.73191249 0.73258649 0.15490486 0.13157237 0.07655052\n",
      "  0.04340507 0.51360007 0.9343542  0.64519397]\n",
      " [0.04209532 0.20349075 0.14092401 0.75575751 0.69592296 0.49918368\n",
      "  0.60073715 0.5359285  0.25999914 0.80836465]\n",
      " [0.89565026 0.67189659 0.95122466 0.90303981 0.97089859 0.10753788\n",
      "  0.51440433 0.53531441 0.24829218 0.59995488]]\n",
      "Minimum Value is : 0.021765468493351592\n",
      "Maximum Value is : 0.9942018025289585\n"
     ]
    }
   ],
   "source": [
    "x = np.random.random((10,10))\n",
    "print(\"Original Array:\")\n",
    "print(x) \n",
    "xmin, xmax = x.min(), x.max()\n",
    "print(\"Minimum Value is :\",xmin)\n",
    "print('Maximum Value is :',xmax)"
   ]
  },
  {
   "cell_type": "markdown",
   "id": "3242aa21",
   "metadata": {},
   "source": [
    "# 6. Create a random vector of size 30 and find the mean value."
   ]
  },
  {
   "cell_type": "code",
   "execution_count": 7,
   "id": "55fbd84f",
   "metadata": {},
   "outputs": [
    {
     "name": "stdout",
     "output_type": "stream",
     "text": [
      "The mean value is : 0.46523451644150143\n"
     ]
    }
   ],
   "source": [
    "x=np.random.random(30)\n",
    "y=x.mean()\n",
    "print('The mean value is :',y)"
   ]
  }
 ],
 "metadata": {
  "kernelspec": {
   "display_name": "Python 3 (ipykernel)",
   "language": "python",
   "name": "python3"
  },
  "language_info": {
   "codemirror_mode": {
    "name": "ipython",
    "version": 3
   },
   "file_extension": ".py",
   "mimetype": "text/x-python",
   "name": "python",
   "nbconvert_exporter": "python",
   "pygments_lexer": "ipython3",
   "version": "3.11.1"
  }
 },
 "nbformat": 4,
 "nbformat_minor": 5
}
