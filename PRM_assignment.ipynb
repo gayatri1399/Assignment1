{
 "cells": [
  {
   "cell_type": "markdown",
   "id": "cb1c53d8",
   "metadata": {},
   "source": [
    "# Q1"
   ]
  },
  {
   "cell_type": "markdown",
   "id": "3a3e180a",
   "metadata": {},
   "source": [
    "You will have a number of elements and in the next n lines element of a list. You have to create a list from the given strings. You have to sort the list based on 2nd last character of a string.\n",
    "\n",
    " \n",
    "\n",
    "For example: given list = ['great','hello','hiyo','abc'] so your output_dictionary should be ['great', 'abc', 'hello','hiyo']\n",
    "\n",
    " \n",
    "\n",
    "Input Format:\n",
    "\n",
    " \n",
    "\n",
    "At first-line it will have an integer (number of elements inside a list). In the second line, it will have a string.\n",
    "\n",
    " \n",
    "\n",
    "Output Format:\n",
    "\n",
    " \n",
    "\n",
    "A single line containing a sorted list.\n",
    "\n",
    " "
   ]
  },
  {
   "cell_type": "code",
   "execution_count": 1,
   "id": "5ee67601",
   "metadata": {},
   "outputs": [
    {
     "name": "stdout",
     "output_type": "stream",
     "text": [
      "Enter the number of element you want to enter in your list :4\n",
      "Enter the string :great\n",
      "Enter the string :hello\n",
      "Enter the string :hiyo\n",
      "Enter the string :abc\n",
      "The original list is : ['great', 'hello', 'hiyo', 'abc']\n",
      "The sorted list is : ['great', 'abc', 'hello', 'hiyo']\n"
     ]
    }
   ],
   "source": [
    "n=int(input('Enter the number of element you want to enter in your list :'))\n",
    "list=[]\n",
    "for i in range(n):\n",
    "    a=input('Enter the string :')\n",
    "    list.append(a)\n",
    "print('The original list is :',list)\n",
    "l2=[]\n",
    "for i in range(len(list)):\n",
    "    l2.append(list[i][-2])\n",
    "l3=sorted(l2)\n",
    "l4=[]\n",
    "dup_list=list\n",
    "dup=l3\n",
    "for i in range(len(dup)):\n",
    "    for j in range(len(dup_list)):\n",
    "        if dup[i]==dup_list[j][-2]:\n",
    "            l4.append(dup_list[j])\n",
    "            dup_list.remove(dup_list[j])\n",
    "            break   \n",
    "print('The sorted list is :',l4)        \n"
   ]
  },
  {
   "cell_type": "markdown",
   "id": "68c14ff9",
   "metadata": {},
   "source": [
    "# Q2 "
   ]
  },
  {
   "cell_type": "markdown",
   "id": "7e8b764a",
   "metadata": {},
   "source": [
    "Your task is to complete the validate_triangle and validate_rectangle functions for the classes. Hint for validating is given in the\n",
    "\n",
    "comments of the code. Also you will have to print the following after validation in respective functions:-\n",
    "\n",
    "1.Invalid Triangle: If the triangle sum property of sides is not valid(More hint in the comments of code)\n",
    "\n",
    " \n",
    "\n",
    "2.Valid Triangle: If the triangle sum property of sides is valid.\n",
    "\n",
    " \n",
    "\n",
    "3.Valid Rectangle: If 2 side pairs are same and they are input in correct order like l,b,l,b\n",
    "\n",
    " \n",
    "\n",
    "4.Invalid Rectangle: If Not Valid rectangle as stated above.\n",
    "\n",
    " \n",
    "\n",
    "Input Format:\n",
    "\n",
    " \n",
    "\n",
    "The side length of triangle followed by for rectangle in the next line in order.\n",
    "\n",
    " \n",
    "\n",
    "Output Format:\n",
    "\n",
    " \n",
    "\n",
    "since object are created in order, so first validate info about triangle will come and than rectangle.\n",
    "\n",
    " \n",
    "\n",
    "Sample Input 0:\n",
    "\n",
    " \n",
    "\n",
    "3 4 5\n",
    "\n",
    " \n",
    "\n",
    "2 4 2 4\n",
    "\n",
    " \n",
    "\n",
    "Sample Output 0:\n",
    "\n",
    " \n",
    "\n",
    "Valid Triangle\n",
    "\n",
    " \n",
    "\n",
    "Valid Rectangle\n",
    "\n"
   ]
  },
  {
   "cell_type": "code",
   "execution_count": 2,
   "id": "65dddb3f",
   "metadata": {},
   "outputs": [
    {
     "name": "stdout",
     "output_type": "stream",
     "text": [
      "Enter the element :3\n",
      "Enter the element :4\n",
      "Enter the element :5\n"
     ]
    },
    {
     "data": {
      "text/plain": [
       "'Valid Triangle'"
      ]
     },
     "execution_count": 2,
     "metadata": {},
     "output_type": "execute_result"
    }
   ],
   "source": [
    "def side_triangle(list1):\n",
    "    hypo=max(list1)\n",
    "    list1.remove(hypo)\n",
    "    sum=0\n",
    "    for i in range(len(list1)):\n",
    "        sum=sum+(list1[i])**2\n",
    "    if sum==hypo**2:\n",
    "        return 'Valid Triangle'\n",
    "    else:\n",
    "        return 'Invalid Triangle'\n",
    "l1=[]\n",
    "for i in range(3):\n",
    "    a=int(input('Enter the element :'))\n",
    "    l1.append(a)\n",
    "side_triangle(l1)    "
   ]
  },
  {
   "cell_type": "code",
   "execution_count": 3,
   "id": "2e7a49f9",
   "metadata": {},
   "outputs": [
    {
     "name": "stdout",
     "output_type": "stream",
     "text": [
      "Enter the element :2\n",
      "Enter the element :4\n",
      "Enter the element :2\n",
      "Enter the element :4\n"
     ]
    },
    {
     "data": {
      "text/plain": [
       "'Valid Rectangle'"
      ]
     },
     "execution_count": 3,
     "metadata": {},
     "output_type": "execute_result"
    }
   ],
   "source": [
    "def side_rect(l1):\n",
    "    if l1[0]==l1[2] and l1[1]==l1[3]:\n",
    "        return 'Valid Rectangle'\n",
    "    else:\n",
    "        return 'Invalid Rectangle'\n",
    "l1=[]\n",
    "for i in range(4):\n",
    "    a=int(input('Enter the element :'))\n",
    "    l1.append(a)\n",
    "side_rect(l1)    "
   ]
  },
  {
   "cell_type": "code",
   "execution_count": null,
   "id": "a051b4f5",
   "metadata": {},
   "outputs": [],
   "source": []
  }
 ],
 "metadata": {
  "kernelspec": {
   "display_name": "Python 3 (ipykernel)",
   "language": "python",
   "name": "python3"
  },
  "language_info": {
   "codemirror_mode": {
    "name": "ipython",
    "version": 3
   },
   "file_extension": ".py",
   "mimetype": "text/x-python",
   "name": "python",
   "nbconvert_exporter": "python",
   "pygments_lexer": "ipython3",
   "version": "3.11.1"
  }
 },
 "nbformat": 4,
 "nbformat_minor": 5
}
