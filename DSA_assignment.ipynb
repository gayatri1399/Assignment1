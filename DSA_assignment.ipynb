{
 "cells": [
  {
   "cell_type": "markdown",
   "id": "1f030dc7",
   "metadata": {},
   "source": [
    "# Q1. Write a program to find all pairs of an integer array whose sum is equal to a given number?"
   ]
  },
  {
   "cell_type": "code",
   "execution_count": 1,
   "id": "d99af617",
   "metadata": {},
   "outputs": [
    {
     "name": "stdout",
     "output_type": "stream",
     "text": [
      "1 2 3 4 5 6 7 8 9 10\n",
      "Enter the sum value :10\n"
     ]
    },
    {
     "data": {
      "text/plain": [
       "[(0, 10), (1, 9), (2, 8), (3, 7), (4, 6), (5, 5)]"
      ]
     },
     "execution_count": 1,
     "metadata": {},
     "output_type": "execute_result"
    }
   ],
   "source": [
    "b=[]\n",
    "def pair(array,sum):\n",
    "    for i in range(len(array)):\n",
    "         for j in range(i,len(array)+1):\n",
    "            if i+j==sum:\n",
    "                c=i,j\n",
    "                b.append(c)\n",
    "    return b\n",
    "array=(input().split())\n",
    "sum=int(input('Enter the sum value :'))    \n",
    "pair(array,sum)"
   ]
  },
  {
   "cell_type": "markdown",
   "id": "16104aa8",
   "metadata": {},
   "source": [
    "# Q2. Write a program to reverse an array in place? In place means you cannot create a new array. You have to update the original array."
   ]
  },
  {
   "cell_type": "code",
   "execution_count": 2,
   "id": "1a16b192",
   "metadata": {},
   "outputs": [
    {
     "name": "stdout",
     "output_type": "stream",
     "text": [
      "The given array is : [1, 2, 3, 4, 5, 6, 7, 8, 9, 10]\n",
      "The reversed array is : [10, 9, 8, 7, 6, 5, 4, 3, 2, 1]\n"
     ]
    }
   ],
   "source": [
    "def reverseArray(array,start,end):\n",
    "    while start<end:\n",
    "        array[start],array[end]=array[end],array[start]\n",
    "        start=start+1\n",
    "        end=end-1\n",
    "    return array\n",
    "a=list(range(1,11))\n",
    "print('The given array is :',a)\n",
    "print('The reversed array is :',reverseArray(a,0,len(a)-1))"
   ]
  },
  {
   "cell_type": "markdown",
   "id": "36a7c4c3",
   "metadata": {},
   "source": [
    "# Q3. Write a program to check if two strings are a rotation of each other?"
   ]
  },
  {
   "cell_type": "code",
   "execution_count": 3,
   "id": "41fce0b2",
   "metadata": {},
   "outputs": [
    {
     "name": "stdout",
     "output_type": "stream",
     "text": [
      "Strings are rotation of each other\n"
     ]
    }
   ],
   "source": [
    "def rotation(s1,s2):\n",
    "    if len(s1)==len(s2):\n",
    "        s3=s1+s1\n",
    "        if s3.count(s2)>0:\n",
    "            return 'Strings are rotation of each other'\n",
    "        else:\n",
    "            return 'Strings are not rotation of each other'\n",
    "    else:\n",
    "        return 'Strings are not rotation of each other'\n",
    "    \n",
    "s1='abcd'\n",
    "s2='bcda'\n",
    "print(rotation(s1,s2))"
   ]
  },
  {
   "cell_type": "markdown",
   "id": "da8bde11",
   "metadata": {},
   "source": [
    "# Q4. Write a program to print the first non-repeated character from a string?"
   ]
  },
  {
   "cell_type": "code",
   "execution_count": 4,
   "id": "66e8bb8c",
   "metadata": {},
   "outputs": [
    {
     "name": "stdout",
     "output_type": "stream",
     "text": [
      "First non-repeating character is G\n"
     ]
    }
   ],
   "source": [
    "s1 = \"Gayatri\"\n",
    "s2=''\n",
    "for i in s1:\n",
    "    if s1.count(i) == 1:\n",
    "        s2=s2+i\n",
    "        break\n",
    "    \n",
    "if len(s2) == 1:\n",
    "    print(\"First non-repeating character is\", s2)\n",
    "    \n",
    "else:\n",
    "    print(\"Either all characters are repeating or string is empty\")"
   ]
  },
  {
   "cell_type": "markdown",
   "id": "bfdc2096",
   "metadata": {},
   "source": [
    "# Q5. Read about the Tower of Hanoi algorithm. Write a program to implement it."
   ]
  },
  {
   "cell_type": "markdown",
   "id": "b1aefd9f",
   "metadata": {},
   "source": [
    "Tower of Hanoi is a puzzle in which there are 3 rods and n number of disks. The task is to move disk from one rod to another rod.\n",
    "At a time we can move only one disk. Initially all the disk are placed in one rod in decreasing value of diameter. \n",
    "The smallest disk is placed at the top of the rod. The aim of the puzzle is to move all the disk from one rod to another rod.\n",
    "\n",
    "The puzzle follow some of the rules such as\n",
    "1. Only one disk can be moved at a time\n",
    "2. No disk is placed on smaller disk\n",
    "3. Each move consists of taking the upper disk from one of the stacks and placing it on top of another stack \n",
    "i.e. a disk can only be moved if it is the uppermost disk on a stack."
   ]
  },
  {
   "cell_type": "markdown",
   "id": "fcc4b2e9",
   "metadata": {},
   "source": [
    "# Program to implement tower of hanoi algorithm"
   ]
  },
  {
   "cell_type": "code",
   "execution_count": 5,
   "id": "3146ab5e",
   "metadata": {},
   "outputs": [
    {
     "name": "stdout",
     "output_type": "stream",
     "text": [
      "Move disk 1 from A to next rod C\n",
      "Move disk 2 from A to next rod B\n",
      "Move disk 1 from C to next rod B\n",
      "Move disk 3 from A to next rod C\n",
      "Move disk 1 from B to next rod A\n",
      "Move disk 2 from B to next rod C\n",
      "Move disk 1 from A to next rod C\n"
     ]
    }
   ],
   "source": [
    "def tower_of_hanoi(n,first_rod,last_rod,middle_rod):\n",
    "    if n==0:\n",
    "        return \n",
    "    tower_of_hanoi(n-1,first_rod,middle_rod,last_rod)\n",
    "    print(f'Move disk {n} from {first_rod} to next rod {last_rod}')\n",
    "    tower_of_hanoi(n-1,middle_rod,last_rod,first_rod)\n",
    "n=3\n",
    "tower_of_hanoi(n,'A','C','B')"
   ]
  },
  {
   "cell_type": "markdown",
   "id": "3927952a",
   "metadata": {},
   "source": [
    "# Q6. Read about infix, prefix, and postfix expressions. Write a program to convert postfix to prefix expression."
   ]
  },
  {
   "cell_type": "markdown",
   "id": "afca8187",
   "metadata": {},
   "source": [
    "Prefix: An expression is called the prefix expression if the operator appears in the expression before the operands\n",
    "\n",
    "Postfix: An expression is called the postfix expression if the operator appears in the expression after the operands"
   ]
  },
  {
   "cell_type": "code",
   "execution_count": 6,
   "id": "ca75fcc9",
   "metadata": {},
   "outputs": [
    {
     "name": "stdout",
     "output_type": "stream",
     "text": [
      "ABC/-AK/L-*\n"
     ]
    }
   ],
   "source": [
    "s = \"*-A/BC-/AKL\"\n",
    "stack = []\n",
    "operators = set(['+', '-', '*', '/', '^'])\n",
    "s = s[::-1]\n",
    "for i in s:\n",
    "    if i in operators:\n",
    "        a = stack.pop()\n",
    "        b = stack.pop()\n",
    "        temp = a+b+i\n",
    "        stack.append(temp)\n",
    "    else:\n",
    "        stack.append(i)\n",
    "print(*stack)"
   ]
  },
  {
   "cell_type": "markdown",
   "id": "8907c6ee",
   "metadata": {},
   "source": [
    "# Q7. Write a program to convert prefix expression to infix expression."
   ]
  },
  {
   "cell_type": "markdown",
   "id": "59cbab13",
   "metadata": {},
   "source": [
    "Infix : An expression is called the Infix expression if the operator appears in between the operands in the expression. \n",
    "\n",
    "Prefix : An expression is called the prefix expression if the operator appears in the expression before the operands."
   ]
  },
  {
   "cell_type": "code",
   "execution_count": 7,
   "id": "1841b9f0",
   "metadata": {},
   "outputs": [
    {
     "name": "stdout",
     "output_type": "stream",
     "text": [
      "((A+B)*(C-D))\n"
     ]
    }
   ],
   "source": [
    "def prefixToInfix(string):\n",
    "    stack = []\n",
    "    i = len(string) - 1\n",
    "    while i >= 0:\n",
    "        if not isOperator(string[i]):\n",
    "            stack.append(string[i])\n",
    "            i -= 1\n",
    "        else:\n",
    "            str = \"(\" + stack.pop() + string[i] + stack.pop() + \")\"\n",
    "            stack.append(str)\n",
    "            i -= 1\n",
    "     \n",
    "    return stack.pop()\n",
    " \n",
    "def isOperator(c):\n",
    "    if c == \"*\" or c == \"+\" or c == \"-\" or c == \"/\" or c == \"^\" or c == \"(\" or c == \")\":\n",
    "        return True\n",
    "    else:\n",
    "        return False\n",
    "str = \"*+AB-CD\"\n",
    "print(prefixToInfix(str))"
   ]
  },
  {
   "cell_type": "markdown",
   "id": "3f11c725",
   "metadata": {},
   "source": [
    "# Q8. Write a program to check if all the brackets are closed in a given code snippet."
   ]
  },
  {
   "cell_type": "code",
   "execution_count": 8,
   "id": "a4ed2441",
   "metadata": {},
   "outputs": [
    {
     "name": "stdout",
     "output_type": "stream",
     "text": [
      "Brackets are closed in a given code snippet\n"
     ]
    }
   ],
   "source": [
    "def bracket(exp):\n",
    "    a=[]\n",
    "    for i in exp:\n",
    "        if i in ['(','[','{']:\n",
    "            a.append(i)\n",
    "        else:\n",
    "            if not a:\n",
    "                return False\n",
    "            bracket=a.pop()\n",
    "            if bracket=='(':\n",
    "                if i!=')':\n",
    "                    return False\n",
    "            elif bracket=='[':\n",
    "                if i!=']':\n",
    "                    return False\n",
    "            elif bracket=='{':\n",
    "                if i!='}':\n",
    "                    return False\n",
    "    if a:\n",
    "        return False\n",
    "    return True\n",
    "expr = \"{([]){}}[]\" \n",
    "  \n",
    "if bracket(expr):      \n",
    "    print(\"Brackets are closed in a given code snippet\")\n",
    "else:\n",
    "    print(\"Brackets are not closed in a given code snippet\")"
   ]
  },
  {
   "cell_type": "markdown",
   "id": "ea97dc3b",
   "metadata": {},
   "source": [
    "# Q9. Write a program to reverse a stack."
   ]
  },
  {
   "cell_type": "code",
   "execution_count": 9,
   "id": "8b59ca82",
   "metadata": {},
   "outputs": [
    {
     "name": "stdout",
     "output_type": "stream",
     "text": [
      "30---->20---->10---->None\n"
     ]
    }
   ],
   "source": [
    "class Node:\n",
    "    def __init__(self,data):\n",
    "        self.data=data\n",
    "        self.next=None\n",
    "        \n",
    "class Stack:\n",
    "    def __init__(self):\n",
    "        self.head=None\n",
    "        self.count=0\n",
    "        \n",
    "    def push(self,data):\n",
    "        newnode=Node(data)\n",
    "        newnode.next=self.head\n",
    "        self.count+=1\n",
    "        self.head=newnode\n",
    "        \n",
    "    def reverse(self):\n",
    "        if self.count>0:\n",
    "            while self.count!=0:\n",
    "                ele=self.head.data\n",
    "                self.head=self.head.next\n",
    "                self.count-=1\n",
    "                print(ele,end='---->')\n",
    "        else:\n",
    "             return 'Stack is empty we cannot perform reverse operation'\n",
    "            \n",
    "x=Stack()\n",
    "x.push(10)\n",
    "x.push(20)\n",
    "x.push(30)\n",
    "print((x.reverse()))"
   ]
  },
  {
   "cell_type": "markdown",
   "id": "d5eec1bb",
   "metadata": {},
   "source": [
    "# Q10. Write a program to find the smallest number using a stack."
   ]
  },
  {
   "cell_type": "code",
   "execution_count": 10,
   "id": "4540c37a",
   "metadata": {},
   "outputs": [
    {
     "name": "stdout",
     "output_type": "stream",
     "text": [
      "The minimum value is  10\n"
     ]
    }
   ],
   "source": [
    "class Minimum:\n",
    "    def __init__(self):\n",
    "        self.s = []\n",
    "  \n",
    "    class Node:\n",
    "        def __init__(self, val, Min):\n",
    "            self.val = val\n",
    "            self.min = Min\n",
    "  \n",
    "    def push(self, x):\n",
    "        if not self.s:\n",
    "            self.s.append(self.Node(x, x))\n",
    "        else:\n",
    "            Min = min(self.s[-1].min, x)\n",
    "            self.s.append(self.Node(x, Min))\n",
    "  \n",
    "   \n",
    "    def minvalue(self):\n",
    "        return self.s[-1].min\n",
    "s = Minimum()\n",
    "s.push(10)\n",
    "s.push(20)\n",
    "s.push(40)\n",
    "s.push(30)\n",
    "print('The minimum value is ',s.minvalue())"
   ]
  },
  {
   "cell_type": "code",
   "execution_count": null,
   "id": "6de77db4",
   "metadata": {},
   "outputs": [],
   "source": []
  }
 ],
 "metadata": {
  "kernelspec": {
   "display_name": "Python 3 (ipykernel)",
   "language": "python",
   "name": "python3"
  },
  "language_info": {
   "codemirror_mode": {
    "name": "ipython",
    "version": 3
   },
   "file_extension": ".py",
   "mimetype": "text/x-python",
   "name": "python",
   "nbconvert_exporter": "python",
   "pygments_lexer": "ipython3",
   "version": "3.11.1"
  }
 },
 "nbformat": 4,
 "nbformat_minor": 5
}
