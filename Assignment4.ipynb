{
 "cells": [
  {
   "cell_type": "markdown",
   "id": "569330df",
   "metadata": {},
   "source": [
    "# Write a Python program to create a lambda function that adds 25 to a given number passed in as an argument.\n",
    "##### sample input: 10\n",
    "##### sample output: 35"
   ]
  },
  {
   "cell_type": "code",
   "execution_count": 1,
   "id": "1ce8d1e6",
   "metadata": {},
   "outputs": [
    {
     "name": "stdout",
     "output_type": "stream",
     "text": [
      "Enter the number :10\n",
      "The sample output is : 35\n"
     ]
    }
   ],
   "source": [
    "x=int(input('Enter the number :'))\n",
    "y=lambda x:x+25\n",
    "print('The sample output is :',y(x))"
   ]
  },
  {
   "cell_type": "markdown",
   "id": "a931fcd7",
   "metadata": {},
   "source": [
    "# Write a Python program to triple all numbers of a given list of integers. Use Python map.\n",
    "# sample list: [1, 2, 3, 4, 5, 6, 7]\n",
    "# Triple of list numbers:\n",
    "# [3, 6, 9, 12, 15, 18, 21]"
   ]
  },
  {
   "cell_type": "code",
   "execution_count": 2,
   "id": "b441b39c",
   "metadata": {},
   "outputs": [
    {
     "name": "stdout",
     "output_type": "stream",
     "text": [
      "The triple of list number is : [3, 6, 9, 12, 15, 18, 21]\n"
     ]
    }
   ],
   "source": [
    "l1=[1, 2, 3, 4, 5, 6, 7]\n",
    "l2=list(map(lambda x:x*3,l1))\n",
    "print(\"The triple of list number is :\",l2)"
   ]
  },
  {
   "cell_type": "markdown",
   "id": "3a733e3e",
   "metadata": {},
   "source": [
    "# Write a Python program to square the elements of a list using map() function.\n",
    "# Sample List: [4, 5, 2, 9]\n",
    "# Square the elements of the list: [16, 25, 4, 81]"
   ]
  },
  {
   "cell_type": "code",
   "execution_count": 3,
   "id": "fa40dccd",
   "metadata": {},
   "outputs": [
    {
     "name": "stdout",
     "output_type": "stream",
     "text": [
      "The square of each element in the list is : \n",
      " [16, 25, 4, 81]\n"
     ]
    }
   ],
   "source": [
    "l3=[4,5,2,9]\n",
    "l4=list(map(lambda x:x**2,l3))\n",
    "print(\"The square of each element in the list is : \\n\",l4)"
   ]
  },
  {
   "cell_type": "code",
   "execution_count": null,
   "id": "5f477177",
   "metadata": {},
   "outputs": [],
   "source": []
  }
 ],
 "metadata": {
  "kernelspec": {
   "display_name": "Python 3",
   "language": "python",
   "name": "python3"
  },
  "language_info": {
   "codemirror_mode": {
    "name": "ipython",
    "version": 3
   },
   "file_extension": ".py",
   "mimetype": "text/x-python",
   "name": "python",
   "nbconvert_exporter": "python",
   "pygments_lexer": "ipython3",
   "version": "3.9.5"
  }
 },
 "nbformat": 4,
 "nbformat_minor": 5
}
