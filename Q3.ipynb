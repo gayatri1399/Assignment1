{
 "cells": [
  {
   "cell_type": "markdown",
   "id": "b3883c9f",
   "metadata": {},
   "source": [
    "# Write a Python program to count the number of even and odd numbers from a series of numbers."
   ]
  },
  {
   "cell_type": "code",
   "execution_count": 1,
   "id": "946e86ae",
   "metadata": {},
   "outputs": [
    {
     "name": "stdout",
     "output_type": "stream",
     "text": [
      "Enter the tuple:(1, 2, 3, 4, 5, 6, 7, 8, 9) \n",
      "Count of even number:  4\n",
      "Count of odd number:  5\n"
     ]
    }
   ],
   "source": [
    "n=eval(input(\"Enter the tuple:\"))\n",
    "even=0\n",
    "odd=0\n",
    "for i in n:\n",
    "    if i%2==0:\n",
    "        even=even+1\n",
    "    else:\n",
    "        odd=odd+1\n",
    "print(\"Count of even number: \",even)\n",
    "print(\"Count of odd number: \",odd)"
   ]
  }
 ],
 "metadata": {
  "kernelspec": {
   "display_name": "Python 3",
   "language": "python",
   "name": "python3"
  },
  "language_info": {
   "codemirror_mode": {
    "name": "ipython",
    "version": 3
   },
   "file_extension": ".py",
   "mimetype": "text/x-python",
   "name": "python",
   "nbconvert_exporter": "python",
   "pygments_lexer": "ipython3",
   "version": "3.9.5"
  }
 },
 "nbformat": 4,
 "nbformat_minor": 5
}
