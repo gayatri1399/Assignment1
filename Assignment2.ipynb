{
 "cells": [
  {
   "cell_type": "markdown",
   "id": "a110430d",
   "metadata": {},
   "source": [
    "# Write a Python program to get a list, sorted in increasing order by the last element in each tuple from a given list of non-empty tuples\n",
    "\n",
    "###### Sample List : [(2, 5), (1, 2), (4, 4), (2, 3), (2, 1)]\n",
    "\n",
    "###### Expected Result : [(2, 1), (1, 2), (2, 3), (4, 4), (2, 5)]"
   ]
  },
  {
   "cell_type": "code",
   "execution_count": 1,
   "id": "97635fd4",
   "metadata": {},
   "outputs": [
    {
     "name": "stdout",
     "output_type": "stream",
     "text": [
      "The sample list is :\n",
      " [(2, 5), (1, 2), (4, 4), (2, 3), (2, 1)]\n",
      "The list sorted in increasing order by the last element in each tuple is :\n",
      " [(2, 1), (1, 2), (2, 3), (4, 4), (2, 5)]\n"
     ]
    }
   ],
   "source": [
    "x=[(2, 5), (1, 2), (4, 4), (2, 3), (2, 1)]\n",
    "print(\"The sample list is :\\n\", x)\n",
    "for i in range(0,len(x)):\n",
    "    for j in range(0,len(x)-i-1):\n",
    "        if x[j][-1]>x[j+1][-1]:\n",
    "            sorted_list=x[j]\n",
    "            x[j]=x[j+1]\n",
    "            x[j+1]=sorted_list\n",
    "print(\"The list sorted in increasing order by the last element in each tuple is :\\n\",x)"
   ]
  },
  {
   "cell_type": "markdown",
   "id": "a96d29da",
   "metadata": {},
   "source": [
    "# Write a Python program to print a dictionary whose keys should be the alphabet from a-z and the value should be corresponding ASCII values\n",
    "\n",
    "###### Sample Output : {'a': 97, 'b': 98, 'c': 99, 'd': 100, 'e': 101, 'f': 102, 'g': 103, 'h': 104, 'i': 105, 'j': 106, 'k': 107, 'l': 108, 'm': 109, 'n': 110, 'o': 111, 'p': 112, 'q': 113, 'r': 114, 's': 115, 't': 116, 'u': 117, 'v': 118, 'w': 119, 'x': 120, 'y': 121, 'z': 122}"
   ]
  },
  {
   "cell_type": "code",
   "execution_count": 2,
   "id": "5a19ab82",
   "metadata": {},
   "outputs": [
    {
     "name": "stdout",
     "output_type": "stream",
     "text": [
      "The dictionary d is :\n",
      " {'a': 97, 'b': 98, 'c': 99, 'd': 100, 'e': 101, 'f': 102, 'g': 103, 'h': 104, 'i': 105, 'j': 106, 'k': 107, 'l': 108, 'm': 109, 'n': 110, 'o': 111, 'p': 112, 'q': 113, 'r': 114, 's': 115, 't': 116, 'u': 117, 'v': 118, 'w': 119, 'x': 120, 'y': 121, 'z': 122}\n"
     ]
    }
   ],
   "source": [
    "d={}\n",
    "for i in range(ord('a'),ord('z')+1):\n",
    "    d[chr(i)]=i\n",
    "print(\"The dictionary d is :\\n\",d)"
   ]
  }
 ],
 "metadata": {
  "kernelspec": {
   "display_name": "Python 3",
   "language": "python",
   "name": "python3"
  },
  "language_info": {
   "codemirror_mode": {
    "name": "ipython",
    "version": 3
   },
   "file_extension": ".py",
   "mimetype": "text/x-python",
   "name": "python",
   "nbconvert_exporter": "python",
   "pygments_lexer": "ipython3",
   "version": "3.9.5"
  }
 },
 "nbformat": 4,
 "nbformat_minor": 5
}
