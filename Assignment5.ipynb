{
 "cells": [
  {
   "cell_type": "markdown",
   "id": "adf0f848",
   "metadata": {},
   "source": [
    "# Challenge 1: Square Numbers and Return Their Sum"
   ]
  },
  {
   "cell_type": "code",
   "execution_count": 1,
   "id": "f38eb5cf",
   "metadata": {},
   "outputs": [
    {
     "name": "stdout",
     "output_type": "stream",
     "text": [
      "Enter the number :1\n",
      "Enter the number :3\n",
      "Enter the number :5\n",
      "The square of each number is : [1, 9, 25]\n",
      "The square of numbers are there sum is : 35\n"
     ]
    }
   ],
   "source": [
    "class Point:\n",
    "    def __init__(self,x,y,z):\n",
    "        self.x=x\n",
    "        self.y=y\n",
    "        self.z=z\n",
    "    def sumsq(self,x,y,z):\n",
    "        l=list([x,y,z])\n",
    "        print('The square of each number is :',list(map(lambda x:x**2,l)))\n",
    "        return x**2+y**2+z**2\n",
    "x=int(input('Enter the number :'))    \n",
    "y=int(input('Enter the number :'))    \n",
    "z=int(input('Enter the number :'))  \n",
    "a=Point(x,y,z)\n",
    "print('The square of numbers are there sum is :',a.sumsq(x,y,z))"
   ]
  },
  {
   "cell_type": "markdown",
   "id": "500f1dbd",
   "metadata": {},
   "source": [
    "# Challenge 2: Implement a Calculator Class"
   ]
  },
  {
   "cell_type": "code",
   "execution_count": 2,
   "id": "ca96e042",
   "metadata": {},
   "outputs": [
    {
     "name": "stdout",
     "output_type": "stream",
     "text": [
      "Enter the number 1 :10\n",
      "Enter the number 2:94\n",
      "104\n",
      "84\n",
      "940\n",
      "9.4\n"
     ]
    }
   ],
   "source": [
    "class Calculator:\n",
    "    def __init__(self,num1,num2):\n",
    "        self.num1=num1\n",
    "        self.num2=num2\n",
    "    def add(self,num1,num2):\n",
    "        return num1+num2\n",
    "    \n",
    "    def sub(self,num1,num2):\n",
    "        return num2-num1\n",
    "    \n",
    "    def mul(self,num1,num2):\n",
    "        return num1*num2\n",
    "    \n",
    "    def div(self,num1,num2):\n",
    "        return num2/num1\n",
    "\n",
    "x=int(input('Enter the number 1 :'))    \n",
    "y=int(input('Enter the number 2:'))\n",
    "a=Calculator(x,y)\n",
    "print(a.add(x,y))\n",
    "print(a.sub(x,y))\n",
    "print(a.mul(x,y))\n",
    "print(a.div(x,y))"
   ]
  },
  {
   "cell_type": "markdown",
   "id": "ddcccb80",
   "metadata": {},
   "source": [
    "# Challenge 3: Implement the Complete Student Class"
   ]
  },
  {
   "cell_type": "code",
   "execution_count": 3,
   "id": "6197815d",
   "metadata": {},
   "outputs": [
    {
     "name": "stdout",
     "output_type": "stream",
     "text": [
      "Gayatri\n",
      "15\n"
     ]
    }
   ],
   "source": [
    "class Student:    \n",
    "    def setName(self,name):\n",
    "        self.__name=name\n",
    "    def getName(self):\n",
    "        return self.__name\n",
    "    def setRollNumber(self,rollnumber):\n",
    "        self.__rollnumber=rollnumber\n",
    "    def getRollNumber(self):\n",
    "        return self.__rollnumber\n",
    "a=Student()\n",
    "a.setName('Gayatri')\n",
    "print(a.getName())\n",
    "a.setRollNumber(15)\n",
    "print(a.getRollNumber())"
   ]
  },
  {
   "cell_type": "markdown",
   "id": "19068506",
   "metadata": {},
   "source": [
    "# Challenge 4: Implement a Banking Account"
   ]
  },
  {
   "cell_type": "code",
   "execution_count": 4,
   "id": "85fcef28",
   "metadata": {},
   "outputs": [
    {
     "name": "stdout",
     "output_type": "stream",
     "text": [
      "The title is : Ashish\n",
      "The balance is : 5000\n",
      "****************************************************************************************************\n",
      "The title is : Ashish\n",
      "The balance is : 5000\n",
      "The interest rate is : 5\n"
     ]
    }
   ],
   "source": [
    "class Account:\n",
    "\n",
    "    def __init__(self,title=None,balance=0):\n",
    "        self.title=title\n",
    "        self.balance=balance\n",
    "\n",
    "class SavingsAccount(Account):\n",
    "    \n",
    "    def __init__(self, title=None,balance=0,interest_rate=0):\n",
    "        super().__init__(title,balance)\n",
    "        self.interest_rate = interest_rate\n",
    "        \n",
    "obj1=Account(\"Ashish\", 5000)\n",
    "print('The title is :',obj1.title)\n",
    "print('The balance is :',obj1.balance)\n",
    "print('*'*100)\n",
    "obj2=SavingsAccount(\"Ashish\", 5000, 5)\n",
    "print('The title is :',obj2.title)\n",
    "print('The balance is :',obj2.balance)\n",
    "print('The interest rate is :',obj2.interest_rate)"
   ]
  },
  {
   "cell_type": "markdown",
   "id": "7b68bdf9",
   "metadata": {},
   "source": [
    "# Challenge 5: Handling a Bank Account"
   ]
  },
  {
   "cell_type": "code",
   "execution_count": 5,
   "id": "c30366a1",
   "metadata": {},
   "outputs": [
    {
     "name": "stdout",
     "output_type": "stream",
     "text": [
      "2500\n",
      "1500\n",
      "100\n"
     ]
    }
   ],
   "source": [
    "import sys\n",
    "class Account:\n",
    "    def __init__(self, title=None, balance=0):\n",
    "        self.title = title\n",
    "        self.balance = balance\n",
    "    \n",
    "    def withdrawal(self, amount):\n",
    "        if self.balance<amount:\n",
    "            print('Insufficient balance')\n",
    "            sys.exit()\n",
    "        self.balance=self.balance-amount\n",
    "        return self.balance\n",
    "    \n",
    "    def deposit(self, amount):\n",
    "        self.balance=self.balance+amount\n",
    "        return self.balance\n",
    "    \n",
    "    def getBalance(self):\n",
    "        return self.balance \n",
    "\n",
    "class SavingsAccount(Account):\n",
    "    def __init__(self, title=None, balance=0, interestRate=0):\n",
    "            super().__init__(title, balance)\n",
    "            self.interestRate = interestRate\n",
    "    \n",
    "    def interestAmount(self):\n",
    "        interest_amount=self.interestRate*self.balance//100  \n",
    "        return interest_amount\n",
    "\n",
    "#code to test - do not edit this\n",
    "\n",
    "demo1 = SavingsAccount(\"Ashish\", 2000, 5)  \n",
    "print(demo1.deposit(500))\n",
    "demo1.withdrawal(500)\n",
    "print(demo1.withdrawal(500))\n",
    "demo1.deposit(500)\n",
    "print(demo1.interestAmount())\n"
   ]
  },
  {
   "cell_type": "code",
   "execution_count": null,
   "id": "7ab990b8",
   "metadata": {},
   "outputs": [],
   "source": []
  }
 ],
 "metadata": {
  "kernelspec": {
   "display_name": "Python 3",
   "language": "python",
   "name": "python3"
  },
  "language_info": {
   "codemirror_mode": {
    "name": "ipython",
    "version": 3
   },
   "file_extension": ".py",
   "mimetype": "text/x-python",
   "name": "python",
   "nbconvert_exporter": "python",
   "pygments_lexer": "ipython3",
   "version": "3.9.5"
  }
 },
 "nbformat": 4,
 "nbformat_minor": 5
}
