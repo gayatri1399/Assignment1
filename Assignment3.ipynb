{
 "cells": [
  {
   "cell_type": "markdown",
   "id": "82d7acac",
   "metadata": {},
   "source": [
    "# Write a Python function to sum all the numbers in a list.\n",
    "##### Sample List : (8, 2, 3, 0, 7)\n",
    "\n",
    "##### Expected Output : 20\n",
    "##### Explanation:\n",
    "##### Summation should like 8+2+3+0+7 = 20"
   ]
  },
  {
   "cell_type": "code",
   "execution_count": 1,
   "id": "514cfafb",
   "metadata": {},
   "outputs": [
    {
     "name": "stdout",
     "output_type": "stream",
     "text": [
      "Enter the list :(8, 2, 3, 0, 7)\n",
      "The given list is : (8, 2, 3, 0, 7)\n",
      "The sum of given sample list is : 20\n"
     ]
    }
   ],
   "source": [
    "def sum(x):\n",
    "    sum1=0\n",
    "    for i in range(len(x)):\n",
    "        sum1=sum1+x[i]\n",
    "    return sum1\n",
    "x1=eval(input(\"Enter the list :\"))\n",
    "print(\"The given list is :\",x1)\n",
    "print(\"The sum of given sample list is :\",sum(x1))"
   ]
  },
  {
   "cell_type": "markdown",
   "id": "3a642ebf",
   "metadata": {},
   "source": [
    "# Write a Python program to reverse a string.\n",
    "\n",
    "#### Sample String : \"1234abcd\"\n",
    "\n",
    "#### Expected Output : \"dcba4321\""
   ]
  },
  {
   "cell_type": "code",
   "execution_count": 2,
   "id": "2d14ae4f",
   "metadata": {},
   "outputs": [
    {
     "name": "stdout",
     "output_type": "stream",
     "text": [
      "Enter the string :1234abcd\n",
      "The original string is : 1234abcd\n",
      "The reversed string is : dcba4321\n"
     ]
    }
   ],
   "source": [
    "def reverse(x):\n",
    "    reverse1=\"\"\n",
    "    for i in range(len(x)-1,-1,-1):\n",
    "        reverse1=reverse1+str((x[i]))\n",
    "    return reverse1\n",
    "y=input(\"Enter the string :\")\n",
    "print(\"The original string is :\",y)\n",
    "print(\"The reversed string is :\",reverse(y))"
   ]
  },
  {
   "cell_type": "markdown",
   "id": "2065bd16",
   "metadata": {},
   "source": [
    "# Write a Python function that accepts a string and calculate the number of upper case letters and lower case letters.\n",
    "##### Sample String : 'The quick Brow Fox'\n",
    "\n",
    "##### Expected Output :\n",
    "\n",
    "##### No. of Upper case characters : 3\n",
    "\n",
    "##### No. of Lower case Characters : 12"
   ]
  },
  {
   "cell_type": "code",
   "execution_count": 4,
   "id": "3a7a1330",
   "metadata": {},
   "outputs": [
    {
     "name": "stdout",
     "output_type": "stream",
     "text": [
      "Enter the string :The quick Brow Fox\n",
      "The sample string is : The quick Brow Fox\n",
      "The number of upper case characters  : 3\n",
      "The number of lower case characters : 12\n"
     ]
    }
   ],
   "source": [
    "def characters(x):\n",
    "    upper_char=0\n",
    "    lower_char=0\n",
    "    for i in range(len(x)):\n",
    "        if x[i].isupper():\n",
    "            upper_char=upper_char+1\n",
    "        elif x[i].islower():\n",
    "            lower_char=lower_char+1\n",
    "    return upper_char, lower_char\n",
    "\n",
    "y=input(\"Enter the string :\")\n",
    "print(\"The sample string is :\",y)\n",
    "print(\"The number of upper case characters  :\",characters(y)[0])\n",
    "print(\"The number of lower case characters :\",characters(y)[1])"
   ]
  },
  {
   "cell_type": "code",
   "execution_count": null,
   "id": "a93d2b46",
   "metadata": {},
   "outputs": [],
   "source": []
  }
 ],
 "metadata": {
  "kernelspec": {
   "display_name": "Python 3",
   "language": "python",
   "name": "python3"
  },
  "language_info": {
   "codemirror_mode": {
    "name": "ipython",
    "version": 3
   },
   "file_extension": ".py",
   "mimetype": "text/x-python",
   "name": "python",
   "nbconvert_exporter": "python",
   "pygments_lexer": "ipython3",
   "version": "3.9.5"
  }
 },
 "nbformat": 4,
 "nbformat_minor": 5
}
