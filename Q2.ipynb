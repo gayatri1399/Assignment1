{
 "cells": [
  {
   "cell_type": "markdown",
   "id": "c734cbc9",
   "metadata": {},
   "source": [
    "# Write a Python program that accepts a word from the user and reverse it."
   ]
  },
  {
   "cell_type": "code",
   "execution_count": 1,
   "id": "7ae40504",
   "metadata": {},
   "outputs": [
    {
     "name": "stdout",
     "output_type": "stream",
     "text": [
      "Enter the string: Edyoda\n",
      "The original string is:  Edyoda\n",
      "The reverse string is:  adoydE\n"
     ]
    }
   ],
   "source": [
    "n=input(\"Enter the string: \")\n",
    "print(\"The original string is: \", n)\n",
    "rev_str=\"\"\n",
    "for i in range(len(n)-1,-1,-1):\n",
    "    rev_str=rev_str+n[i]\n",
    "print(\"The reverse string is: \",rev_str)    "
   ]
  }
 ],
 "metadata": {
  "kernelspec": {
   "display_name": "Python 3",
   "language": "python",
   "name": "python3"
  },
  "language_info": {
   "codemirror_mode": {
    "name": "ipython",
    "version": 3
   },
   "file_extension": ".py",
   "mimetype": "text/x-python",
   "name": "python",
   "nbconvert_exporter": "python",
   "pygments_lexer": "ipython3",
   "version": "3.9.5"
  }
 },
 "nbformat": 4,
 "nbformat_minor": 5
}
